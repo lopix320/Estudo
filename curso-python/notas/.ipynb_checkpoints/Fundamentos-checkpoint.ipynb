{
 "cells": [
  {
   "cell_type": "markdown",
   "id": "0d89b5ec",
   "metadata": {},
   "source": [
    "# Primeiros Exemplos"
   ]
  },
  {
   "cell_type": "code",
   "execution_count": 9,
   "id": "cd5712d7",
   "metadata": {},
   "outputs": [
    {
     "name": "stdout",
     "output_type": "stream",
     "text": [
      "primeiro programa\n"
     ]
    },
    {
     "data": {
      "text/plain": [
       "3"
      ]
     },
     "execution_count": 9,
     "metadata": {},
     "output_type": "execute_result"
    }
   ],
   "source": [
    "print('primeiro programa')\n",
    "1 \\\n",
    " + 2  #essa barra torta serve para que o programa rode com quebra de linha "
   ]
  },
  {
   "cell_type": "code",
   "execution_count": 11,
   "id": "c9c7b8d5",
   "metadata": {},
   "outputs": [
    {
     "data": {
      "text/plain": [
       "15"
      ]
     },
     "execution_count": 11,
     "metadata": {},
     "output_type": "execute_result"
    }
   ],
   "source": [
    "1 + 2 + 3\n",
    "4 + 5 + 6 #Aqui no Jupyter apenas a ultima linha é lida a menos que você use print"
   ]
  },
  {
   "cell_type": "code",
   "execution_count": 13,
   "id": "1efe3704",
   "metadata": {},
   "outputs": [
    {
     "name": "stdout",
     "output_type": "stream",
     "text": [
      "6\n",
      "15\n"
     ]
    }
   ],
   "source": [
    "print(1 + 2 + 3)\n",
    "print(4 + 5 + 6)"
   ]
  },
  {
   "cell_type": "markdown",
   "id": "36fb4159",
   "metadata": {},
   "source": [
    "# Tipos Básicos"
   ]
  },
  {
   "cell_type": "code",
   "execution_count": 17,
   "id": "6f3dfd3c",
   "metadata": {},
   "outputs": [
    {
     "name": "stdout",
     "output_type": "stream",
     "text": [
      "True\n",
      "False\n",
      "2.2\n",
      "Aqui eu falo na minha lingua!\n",
      "Tb funciona.\n",
      "Você é muito muito muito legal\n",
      "[1, 2, 3]\n",
      "{'nome': 'Pedro', 'idade': 22}\n",
      "None\n"
     ]
    }
   ],
   "source": [
    "print(True)#Tipo Boolean\n",
    "print(False)#Tipo Boolean\n",
    "print(1.2 + 1)#Tipo Float + Tipo Int\n",
    "print('Aqui eu falo na minha lingua!') #String no python pode ser feita com aspas simples...\n",
    "print(\"Tb funciona.\")#pode ser feita com aspas dupla tbm\n",
    "print('Você é ' + 3 * 'muito ' + 'legal')#Aqui, estamos multiplicando a palavra muito 3 vezes e usando o (+) para concatenar\n",
    "# print(3 + '3') -> nesse caso ocorre uma ambiguidade pois interpretador não sabe se deve somar ou concatenar.\n",
    "print([1, 2, 3])#Tipo List\n",
    "print({'nome': 'Pedro', 'idade': 22})#Tipo Dicionario(Chave valor)\n",
    "print(None)#None é tipo uma nulo"
   ]
  },
  {
   "cell_type": "markdown",
   "id": "7f7d5f56",
   "metadata": {},
   "source": [
    "# Variáveis"
   ]
  },
  {
   "cell_type": "code",
   "execution_count": 22,
   "id": "69524c8a",
   "metadata": {},
   "outputs": [
    {
     "name": "stdout",
     "output_type": "stream",
     "text": [
      "15.2\n",
      "Agora é uma string\n"
     ]
    },
    {
     "data": {
      "text/plain": [
       "5.2"
      ]
     },
     "execution_count": 22,
     "metadata": {},
     "output_type": "execute_result"
    }
   ],
   "source": [
    "a = 10\n",
    "b = 5.2\n",
    "\n",
    "print(a + b)\n",
    "\n",
    "#Python é uma linguagem dinamicamente tipada, ou seja, \n",
    "#não é obrigatorio declarar o tipo da variavel quando ela é criada\n",
    "\n",
    "a = 'Agora é uma string'\n",
    "print(a)\n",
    "a\n",
    "b\n",
    "#print(a + b) -> nesse momento vai ocorrer um erro na soma pois, como...\n",
    "# a variavel (a) deixou de ser Int para ser uma String ... \n",
    "# o interpretador não vai realizar a soma de um tipo Float com um tipo String"
   ]
  },
  {
   "cell_type": "markdown",
   "id": "e7225df2",
   "metadata": {},
   "source": [
    "# Operadores Aritméticos"
   ]
  },
  {
   "cell_type": "code",
   "execution_count": 25,
   "id": "2e20edcf",
   "metadata": {},
   "outputs": [
    {
     "name": "stdout",
     "output_type": "stream",
     "text": [
      "5\n",
      "-3\n",
      "10.6\n",
      "3.1333333333333333\n",
      "3.0\n",
      "256\n",
      "1\n",
      "24\n"
     ]
    }
   ],
   "source": [
    "# Operador de soma\n",
    "print(2 + 3)\n",
    "# Operador de subtração\n",
    "print(4 - 7)\n",
    "# Operador de multiplicação\n",
    "print(2 * 5.3)\n",
    "# Operador de divisão\n",
    "print(9.4 / 3)\n",
    "# Operador de divisão, porém obrigatoriamente o resultado da divisão sera Int\n",
    "print(9.4 // 3)\n",
    "# Operador de elevação\n",
    "print(2 ** 8)\n",
    "# Operador Modulo, serve para pegar o resto da divisão\n",
    "print(10 % 3)\n",
    "\n",
    "a = 12\n",
    "b = a\n",
    "print(a + b)\n"
   ]
  },
  {
   "cell_type": "markdown",
   "id": "c0de9f94",
   "metadata": {},
   "source": [
    "# Desafio Operadores Aritméticos"
   ]
  },
  {
   "cell_type": "code",
   "execution_count": 29,
   "id": "d8a6d25a",
   "metadata": {},
   "outputs": [
    {
     "name": "stdout",
     "output_type": "stream",
     "text": [
      "71.0\n"
     ]
    }
   ],
   "source": [
    "# Minhas variáveis\n",
    "salario = 3450.45\n",
    "despesas = 2456.2\n",
    "\n",
    "conta = (despesas * 100) // salario\n",
    "\n",
    "print(conta)\n"
   ]
  },
  {
   "cell_type": "markdown",
   "id": "07ab0fa8",
   "metadata": {},
   "source": [
    "# Operadores Relacionais"
   ]
  },
  {
   "cell_type": "code",
   "execution_count": 39,
   "id": "de9feb9b",
   "metadata": {},
   "outputs": [
    {
     "name": "stdout",
     "output_type": "stream",
     "text": [
      "False\n",
      "True\n",
      "True\n",
      "False\n",
      "True\n",
      "True\n",
      "False\n"
     ]
    }
   ],
   "source": [
    "print(3 > 4)\n",
    "print(4 >= 3)\n",
    "print(1 < 2)\n",
    "print(3 <= 1)\n",
    "print(3 != 2)\n",
    "print(3 == 3)\n",
    "print(3 == '2')"
   ]
  },
  {
   "cell_type": "markdown",
   "id": "25fc8336",
   "metadata": {},
   "source": [
    "# Operadores de Atribuição"
   ]
  },
  {
   "cell_type": "code",
   "execution_count": 45,
   "id": "38311f69",
   "metadata": {},
   "outputs": [
    {
     "name": "stdout",
     "output_type": "stream",
     "text": [
      "10\n",
      "15\n",
      "12\n",
      "24\n",
      "6.0\n",
      "2.0\n",
      "256.0\n",
      "1.0\n"
     ]
    }
   ],
   "source": [
    "a = 3\n",
    "a = a + 7\n",
    "print(a)\n",
    "\n",
    "a += 5 # a = a + 5\n",
    "print(a)\n",
    "\n",
    "a -= 3\n",
    "print(a)\n",
    "\n",
    "a *= 2\n",
    "print(a)\n",
    "\n",
    "a /= 4\n",
    "print(a)\n",
    "\n",
    "a %= 4\n",
    "print(a)\n",
    "\n",
    "a **= 8\n",
    "print(a)\n",
    "\n",
    "a //= 256\n",
    "print(a)"
   ]
  },
  {
   "cell_type": "markdown",
   "id": "21ad6fe5",
   "metadata": {},
   "source": [
    "# Operadores Lógicos"
   ]
  },
  {
   "cell_type": "code",
   "execution_count": 66,
   "id": "4d977f4e",
   "metadata": {},
   "outputs": [
    {
     "name": "stdout",
     "output_type": "stream",
     "text": [
      "\n",
      "Tabela Verdade do AND:\n",
      "\n",
      "True\n",
      "False\n",
      "False\n",
      "False\n",
      "\n",
      "Tabela Verdade do OR:\n",
      "\n",
      "True\n",
      "True\n",
      "True\n",
      "False\n",
      "\n",
      "Tabela Verdade do XOR:\n",
      "\n",
      "False\n",
      "True\n",
      "True\n",
      "False\n",
      "\n",
      "Operador de Negação:\n",
      "\n",
      "False\n",
      "True\n",
      "True\n",
      "False\n",
      "True\n",
      "True\n",
      "\n",
      "Operadores Bit-a-bit\n",
      "\n",
      "2\n",
      "3\n",
      "1\n"
     ]
    }
   ],
   "source": [
    "True or False\n",
    "7 != 3 and 2 > 3\n",
    "\n",
    "print('\\nTabela Verdade do AND:\\n')\n",
    "# Tabela verdade do AND\n",
    "print(True and True)\n",
    "print(True and False)\n",
    "print(False and True)\n",
    "print(False and False)\n",
    "\n",
    "\n",
    "print('\\nTabela Verdade do OR:\\n')\n",
    "# Tabela verdade do OR\n",
    "print(True or True)\n",
    "print(True or False)\n",
    "print(False or True)\n",
    "print(False or False)\n",
    "\n",
    "print('\\nTabela Verdade do XOR:\\n')\n",
    "# Tabela verdade do XOR(OU EXCLUSIVO)\n",
    "print(True != True)\n",
    "print(True != False)\n",
    "print(False != True)\n",
    "print(False != False)\n",
    "\n",
    "print('\\nOperador de Negação:\\n')\n",
    "# Tabela verdade do XOR(OU EXCLUSIVO)\n",
    "# OBS: No java como operador de negação, é usado o (!)\n",
    "print(not True)\n",
    "print(not False)\n",
    "\n",
    "print(not 0)\n",
    "print(not 1)\n",
    "print(not not -1)\n",
    "print(not not True)\n",
    "\n",
    "print('\\nOperadores Bit-a-bit\\n')\n",
    "# Cuidado!(Usados para comparar o número binário(1 = True e 0 = False) e não numero decimal. \n",
    "# O resultado dessa comparação forma um novo número binário que será imprimido pelo interpretador como decimal)\n",
    "True & False\n",
    "False | True\n",
    "True ^ False\n",
    "\n",
    "# AND Bit-a-bit\n",
    "# 3 = 11\n",
    "# 2 = 10\n",
    "# _ = 10 = 2\n",
    "print(3 & 2)\n",
    "\n",
    "# OR Bit-a-bit\n",
    "# 3 = 11\n",
    "# 2 = 10\n",
    "# _ = 11 = 3\n",
    "print(3 | 2)\n",
    "\n",
    "# OR Bit-a-bit\n",
    "# 3 = 11\n",
    "# 2 = 10\n",
    "# _ = 01 = 1\n",
    "print(3 ^ 2)"
   ]
  },
  {
   "cell_type": "markdown",
   "id": "4ece847a",
   "metadata": {},
   "source": [
    "# Desafio Operadores Lógicos "
   ]
  },
  {
   "cell_type": "code",
   "execution_count": 72,
   "id": "9682d7d8",
   "metadata": {},
   "outputs": [
    {
     "name": "stdout",
     "output_type": "stream",
     "text": [
      "Tv de 50:  False \n",
      "Tv de 32:  True \n",
      "Sorvete:  True \n",
      "Esta saudavel:  False\n",
      "Tv50=False Tv32=False Sorvete=False Saudável=True\n"
     ]
    }
   ],
   "source": [
    "trab1 = True\n",
    "trab2 = False\n",
    "\n",
    "TV32 = trab1 != trab2\n",
    "TV50 = trab1 and trab2\n",
    "Sorvete = trab1 or trab2\n",
    "Saudavel = not Sorvete\n",
    "\n",
    "print('Tv de 50: ', TV50, '\\nTv de 32: ', TV32, '\\nSorvete: ', Sorvete, '\\nEsta saudavel: ', Saudavel)\n",
    "\n",
    "# Versão do professor:\n",
    "\n",
    "trabalho_terca = False\n",
    "trabalho_quinta = False\n",
    "\n",
    "tv_50 = trabalho_terca and trabalho_quinta\n",
    "sorvete = trabalho_terca or trabalho_quinta\n",
    "tv_32 = trabalho_terca != trabalho_quinta  # xor\n",
    "mais_saudavel = not sorvete\n",
    "\n",
    "print(\"Tv50={} Tv32={} Sorvete={} Saudável={}\"\n",
    "      .format(tv_50, tv_32, sorvete, mais_saudavel))\n",
    "\n",
    "# \"{}, {} = {}\".format(1, False, 'resultado')"
   ]
  },
  {
   "cell_type": "markdown",
   "id": "f094064e",
   "metadata": {},
   "source": [
    "# Operadores Unários "
   ]
  },
  {
   "cell_type": "code",
   "execution_count": 73,
   "id": "77e59d9f",
   "metadata": {},
   "outputs": [
    {
     "data": {
      "text/plain": [
       "True"
      ]
     },
     "execution_count": 73,
     "metadata": {},
     "output_type": "execute_result"
    }
   ],
   "source": [
    "# %%\n",
    "a = 3\n",
    "# a++\n",
    "# a += 1(No python, essa é a forma de usar o (++))\n",
    "# a\n",
    "# a--\n",
    "# ++a\n",
    "# ++a\n",
    "-a\n",
    "+a\n",
    "\n",
    "not 0\n",
    "not 1\n",
    "not -2\n",
    "not False\n",
    "not not True"
   ]
  },
  {
   "cell_type": "markdown",
   "id": "1ec3cf87",
   "metadata": {},
   "source": [
    "# Operadores Ternários"
   ]
  },
  {
   "cell_type": "code",
   "execution_count": 79,
   "id": "e16202f8",
   "metadata": {},
   "outputs": [
    {
     "name": "stdout",
     "output_type": "stream",
     "text": [
      "Hoje estou com as roupas molhadas.\n",
      "Hoje estou com as roupas molhadas.\n"
     ]
    }
   ],
   "source": [
    "esta_chuvendo = True\n",
    "\n",
    "print('Hoje estou com as roupas ' + ('secas.', 'molhadas.')[esta_chuvendo])\n",
    "print('Hoje estou com as roupas ' +  ('molhadas.' if esta_chuvendo else 'secas.'))"
   ]
  },
  {
   "cell_type": "markdown",
   "id": "b47cd845",
   "metadata": {},
   "source": [
    "# Mais Operadores\n"
   ]
  },
  {
   "cell_type": "code",
   "execution_count": 89,
   "id": "faa1b1e9",
   "metadata": {},
   "outputs": [
    {
     "data": {
      "text/plain": [
       "True"
      ]
     },
     "execution_count": 89,
     "metadata": {},
     "output_type": "execute_result"
    }
   ],
   "source": [
    "# Operador de Membro\n",
    "lista = [1, 2, 3, 'Ana', 'Carla']\n",
    "2 in lista\n",
    "'Ana' not in lista\n",
    "\n",
    "# Operador de Identidade\n",
    "x = 3\n",
    "y = x\n",
    "z = 3\n",
    "x is y\n",
    "y is z\n",
    "x is not z\n",
    "\n",
    "\n",
    "# Neste caso, quando é criada uma lista, não é o valor da lista que é armazenada na variavel e sim o endereço da lista na memoria, \n",
    "# ou seja, uma variavel que recebe uma lista vai receber o endereço da onde essa lista esta na memoria, por isso que\n",
    "# quando é criada outra lista de mesmo valor, não é possivel comparar as 2 como sendo iguais pois dentro delas não contem\n",
    "# valores e sim endereços e os das listasendereços são diferentes por isso se compararmos as duas usando o operador de identidade, \n",
    "# vai dar falso, pois elas pertencem a lugares diferentes\n",
    "lista_a = [1, 2, 3]\n",
    "lista_b = lista_a\n",
    "lista_c = [1, 2, 3]\n",
    "\n",
    "lista_a is lista_b\n",
    "lista_b is lista_c\n",
    "lista_a is not lista_c"
   ]
  },
  {
   "cell_type": "markdown",
   "id": "6fa2d901",
   "metadata": {},
   "source": [
    "# Builtins "
   ]
  },
  {
   "cell_type": "code",
   "execution_count": 2,
   "id": "9a527f08",
   "metadata": {},
   "outputs": [
    {
     "name": "stdout",
     "output_type": "stream",
     "text": [
      "3.3333333333333335\n"
     ]
    },
    {
     "data": {
      "text/plain": [
       "['In',\n",
       " 'Out',\n",
       " '_',\n",
       " '_1',\n",
       " '__',\n",
       " '___',\n",
       " '__builtin__',\n",
       " '__builtins__',\n",
       " '__doc__',\n",
       " '__loader__',\n",
       " '__name__',\n",
       " '__package__',\n",
       " '__spec__',\n",
       " '_dh',\n",
       " '_i',\n",
       " '_i1',\n",
       " '_i2',\n",
       " '_ih',\n",
       " '_ii',\n",
       " '_iii',\n",
       " '_oh',\n",
       " 'exit',\n",
       " 'get_ipython',\n",
       " 'math',\n",
       " 'nome',\n",
       " 'quit']"
      ]
     },
     "execution_count": 2,
     "metadata": {},
     "output_type": "execute_result"
    }
   ],
   "source": [
    "# type()\n",
    "type(1)\n",
    "__builtins__.type('Fala Galera!')\n",
    "__builtins__.print(10 / 3)\n",
    "\n",
    "# __builtins__.help(__builtins__.dir)\n",
    "\n",
    "# a = 7\n",
    "import math\n",
    "# dir()\n",
    "# dir(__builtins__)\n",
    "\n",
    "\n",
    "nome = 'João da Silva'\n",
    "type(nome)\n",
    "# __builtin__.len(nome)\n",
    "\n",
    "dir()"
   ]
  },
  {
   "cell_type": "markdown",
   "id": "ec226796",
   "metadata": {},
   "source": [
    "# Conversão de Tipos"
   ]
  },
  {
   "cell_type": "code",
   "execution_count": 21,
   "id": "0a5bb421",
   "metadata": {},
   "outputs": [
    {
     "name": "stdout",
     "output_type": "stream",
     "text": [
      "<class 'int'>\n",
      "<class 'str'>\n",
      "5\n",
      "23\n"
     ]
    },
    {
     "data": {
      "text/plain": [
       "str"
      ]
     },
     "execution_count": 21,
     "metadata": {},
     "output_type": "execute_result"
    }
   ],
   "source": [
    "2 + 3\n",
    "'2' + '3'\n",
    "# 2 + '3'\n",
    "# print(2 + '3')\n",
    "\n",
    "a = 2\n",
    "b = '3'\n",
    "\n",
    "print(type(a))\n",
    "print(type(b))\n",
    "\n",
    "print(a + int(b)) # Convertendo String para Int\n",
    "print(str(a) + b) # Convertendo Int para String \n",
    "\n",
    "type(str(a))\n",
    "\n",
    "# print(2 + int('3.4'))"
   ]
  },
  {
   "cell_type": "markdown",
   "id": "3e38d07d",
   "metadata": {},
   "source": [
    "# Coerção Automática "
   ]
  },
  {
   "cell_type": "code",
   "execution_count": 25,
   "id": "4aa149a7",
   "metadata": {},
   "outputs": [
    {
     "name": "stdout",
     "output_type": "stream",
     "text": [
      "5.0\n",
      "<class 'float'>\n",
      "3.3333333333333335\n",
      "3\n",
      "<class 'int'>\n",
      "3.0\n",
      "<class 'float'>\n",
      "4.0\n",
      "3\n",
      "2\n",
      "<class 'int'>\n",
      "<class 'float'>\n"
     ]
    }
   ],
   "source": [
    "print(10 / 2)\n",
    "print(type(10 / 2))\n",
    "print(10 / 3)\n",
    "print(10 // 3)\n",
    "print(type(10 // 3))\n",
    "print(10 // 3.3)\n",
    "print(type(10 // 3.3))\n",
    "print(10 / 2.5)\n",
    "print(2 + True)\n",
    "print(2 + False)\n",
    "print(type(1 + 2))\n",
    "print(type(1 + 2.5))"
   ]
  },
  {
   "cell_type": "markdown",
   "id": "1b2f91e9",
   "metadata": {},
   "source": [
    "# Tipos Numéricos "
   ]
  },
  {
   "cell_type": "code",
   "execution_count": 38,
   "id": "fc6ef515",
   "metadata": {
    "scrolled": true
   },
   "outputs": [
    {
     "data": {
      "text/plain": [
       "3.6"
      ]
     },
     "execution_count": 38,
     "metadata": {},
     "output_type": "execute_result"
    }
   ],
   "source": [
    "dir(int)\n",
    "dir(float)\n",
    "\n",
    "a = 5\n",
    "b = 2.5\n",
    "a / b\n",
    "a + b\n",
    "a * b\n",
    "\n",
    "type(a)\n",
    "type(b)\n",
    "type(a - b) # Toda operação aritmética entre Int e Float o resultado vai ser Float\n",
    "\n",
    "b.is_integer()\n",
    "5.0.is_integer()\n",
    "\n",
    "dir(int)\n",
    "int.__add__(2, 3)\n",
    "2 + 3\n",
    "\n",
    "(-2).__abs__()\n",
    "abs(-2)\n",
    "\n",
    "(-3.6).__abs__()\n",
    "abs(-3.6)"
   ]
  },
  {
   "cell_type": "code",
   "execution_count": 53,
   "id": "a68dca21",
   "metadata": {},
   "outputs": [],
   "source": [
    "# 1.1 + 2.2\n",
    "from decimal import Decimal, getcontext\n",
    "Decimal(1) / Decimal(7)\n",
    "\n",
    "getcontext().prec = 4 # Ajusta quantos casas decimais tem após a virgula.\n",
    "Decimal(1) / Decimal(7)\n",
    "Decimal.max(Decimal(1), Decimal(7))\n",
    "dir(Decimal)\n",
    "\n",
    "1.1 + 2.2\n",
    "getcontext().prec = 10\n",
    "Decimal(1.1) + Decimal(2.2)\n",
    "\n",
    "import decimal\n",
    "dir(decimal)"
   ]
  },
  {
   "cell_type": "markdown",
   "id": "160d4417",
   "metadata": {},
   "source": [
    "# Tipo String"
   ]
  },
  {
   "cell_type": "code",
   "execution_count": 66,
   "id": "d19f8a80",
   "metadata": {},
   "outputs": [
    {
     "name": "stdout",
     "output_type": "stream",
     "text": [
      "Texto com múltiplas\n",
      "\t...linhas\n",
      "Texto com múltiplas\n",
      "... linhas\n"
     ]
    },
    {
     "data": {
      "text/plain": [
       "'Também é possível\\n... com 3 aspas simples'"
      ]
     },
     "execution_count": 66,
     "metadata": {},
     "output_type": "execute_result"
    }
   ],
   "source": [
    "dir(str)\n",
    "nome = 'Saulo Pedro'\n",
    "nome\n",
    "nome[0] # Indice (0) da string é a letra (S)\n",
    "# nome[0] = 'P' # Trocar o valor de um Indice por outro não é possível, string é imutável.\n",
    "\n",
    "# 'marca d'água'\n",
    "\"Dias D'Avila\" == 'Dias D\\'Avila' # Formas de usar aspas dentro de uma string sem quebrar a string\n",
    "\"Teste \\\" funciona!\"\n",
    "texto = 'Texto entre apostrófos pode ter \"aspas\"'\n",
    "texto\n",
    "\n",
    "doc = \"\"\"Texto com múltiplas\n",
    "... linhas\"\"\"\n",
    "doc\n",
    "print('Texto com múltiplas\\n\\t...linhas')\n",
    "print(doc)\n",
    "\n",
    "doc2 = '''Também é possível\n",
    "... com 3 aspas simples'''\n",
    "doc2"
   ]
  },
  {
   "cell_type": "code",
   "execution_count": 115,
   "id": "62819daa",
   "metadata": {},
   "outputs": [
    {
     "data": {
      "text/plain": [
       "'aluaP anA'"
      ]
     },
     "execution_count": 115,
     "metadata": {},
     "output_type": "execute_result"
    }
   ],
   "source": [
    "nome = 'Ana Paula'\n",
    "nome[0] # Indice (0) da string é a letra (A)\n",
    "nome[6] # Indice (6) da string é a letra (u)\n",
    "nome[-3] # Usando o menos pegamos o indice de forma invertida, exemplo, o -1 seria o (a), -2 valor (l) e -3 valor (u)\n",
    "nome[4:] # Pega todas caracteres a partir do indice 4\n",
    "nome[-5:] # Pega todas cacacteres a partir do indice invertido -5\n",
    "nome[:3] # Pega todas antes do indice 3, mas o indice 3 em si não conta\n",
    "nome[2:5] # Pega todas caracteres a partir do indice 2 até o indice 5, mas o indice 3 em si não conta\n",
    "\n",
    "numeros = '1234567890'\n",
    "numeros\n",
    "numeros[::]\n",
    "numeros[::2] # Pula os caracteres de 2 em 2\n",
    "numeros[1::2] # pula de 2 em 2 a partir do indice 1\n",
    "numeros[::-1] # Inverte os caracteres\n",
    "numeros[::-2] # Inverte os caracteres e pula de 2 em 2\n",
    "\n",
    "nome[::-1]"
   ]
  },
  {
   "cell_type": "code",
   "execution_count": 121,
   "id": "b3d3f56d",
   "metadata": {},
   "outputs": [
    {
     "data": {
      "text/plain": [
       "['PYTHON É UMA LINGUAG', 'M ', 'XC', 'L', 'NT', '']"
      ]
     },
     "execution_count": 121,
     "metadata": {},
     "output_type": "execute_result"
    }
   ],
   "source": [
    "frase = 'Python é uma linguagem excelente'\n",
    "'py' not in frase\n",
    "'ing' in frase\n",
    "len(frase) # len é uma função para saber quantos caracteres tem uma string\n",
    "frase.lower() # Usado para deixar em minusculo uma string\n",
    "frase\n",
    "frase = frase.upper() # Usado para deixar em maiusculo uma string\n",
    "frase\n",
    "\n",
    "frase.split()\n",
    "frase.split('E') # Usado para dividir uma string\n",
    "\n",
    "# dir(str)\n",
    "# help(str.center)"
   ]
  },
  {
   "cell_type": "code",
   "execution_count": 135,
   "id": "457b36bf",
   "metadata": {},
   "outputs": [
    {
     "data": {
      "text/plain": [
       "True"
      ]
     },
     "execution_count": 135,
     "metadata": {},
     "output_type": "execute_result"
    }
   ],
   "source": [
    "a = '123'\n",
    "b = ' de Oliveira 4'\n",
    "a + b\n",
    "a.__add__(b)\n",
    "str.__add__(a, b)\n",
    "\n",
    "len(a)\n",
    "a.__len__()\n",
    "'1' in a\n",
    "a.__contains__('1')\n",
    "\n",
    "dir(str)"
   ]
  },
  {
   "cell_type": "markdown",
   "id": "d017aae5",
   "metadata": {},
   "source": [
    "# Lista"
   ]
  },
  {
   "cell_type": "code",
   "execution_count": 137,
   "id": "0feb4172",
   "metadata": {},
   "outputs": [
    {
     "data": {
      "text/plain": [
       "0"
      ]
     },
     "execution_count": 137,
     "metadata": {},
     "output_type": "execute_result"
    }
   ],
   "source": [
    "lista = []\n",
    "type(lista)\n",
    "len(lista) # Mostra o tamanho da lista"
   ]
  },
  {
   "cell_type": "code",
   "execution_count": null,
   "id": "cfcc9b6a",
   "metadata": {},
   "outputs": [],
   "source": []
  }
 ],
 "metadata": {
  "kernelspec": {
   "display_name": "Python 3 (ipykernel)",
   "language": "python",
   "name": "python3"
  },
  "language_info": {
   "codemirror_mode": {
    "name": "ipython",
    "version": 3
   },
   "file_extension": ".py",
   "mimetype": "text/x-python",
   "name": "python",
   "nbconvert_exporter": "python",
   "pygments_lexer": "ipython3",
   "version": "3.9.7"
  }
 },
 "nbformat": 4,
 "nbformat_minor": 5
}
